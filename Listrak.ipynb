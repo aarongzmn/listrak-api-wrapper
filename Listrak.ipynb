{
 "cells": [
  {
   "cell_type": "markdown",
   "metadata": {},
   "source": [
    "# Listrak Authentication\n",
    "- https://api.listrak.com/email#section/Authentication"
   ]
  },
  {
   "cell_type": "code",
   "execution_count": null,
   "metadata": {},
   "outputs": [],
   "source": [
    "import os\n",
    "import listrak\n",
    "\n",
    "\n",
    "# Create listrak_api obj that will be used to authenticate with Listrak API\n",
    "client_id = os.getenv(\"LISTRAK_CLIENT_ID\")\n",
    "client_secret = os.getenv(\"LISTRAK_CLIENT_SECRET\")\n",
    "listrak_api = listrak.Listrak(client_id, client_secret)\n",
    "\n",
    "# Use Listrak API to get a list of all lists. Then filter for desired list by name\n",
    "lists = listrak_api.email.get_all_lists()\n",
    "list_name = \"{INSERT LIST NAME HERE}\"\n",
    "nps_list_id = next(x for x in lists if x[\"listName\"] == list_name).get(\"listId\")\n",
    "\n",
    "# Use list_id to get data for given list\n",
    "listrak_api.email.get_a_list(nps_list_id)\n",
    "\n"
   ]
  }
 ],
 "metadata": {
  "interpreter": {
   "hash": "abf40973a076ccfd60da46d74b12b480e54a884a787bad4bae15f53031bf7d5a"
  },
  "kernelspec": {
   "display_name": "Python 3.9.5 64-bit",
   "language": "python",
   "name": "python3"
  },
  "language_info": {
   "codemirror_mode": {
    "name": "ipython",
    "version": 3
   },
   "file_extension": ".py",
   "mimetype": "text/x-python",
   "name": "python",
   "nbconvert_exporter": "python",
   "pygments_lexer": "ipython3",
   "version": "3.10.0"
  },
  "orig_nbformat": 4
 },
 "nbformat": 4,
 "nbformat_minor": 2
}
