{
 "cells": [
  {
   "cell_type": "markdown",
   "metadata": {},
   "source": [
    "# Listrak Authentication\n",
    "- https://api.listrak.com/email#section/Authentication"
   ]
  },
  {
   "cell_type": "code",
   "execution_count": null,
   "metadata": {},
   "outputs": [],
   "source": [
    "import os\n",
    "import listrak\n",
    "\n",
    "\n",
    "# Create listrak_api obj that will be used to authenticate with Listrak API\n",
    "client_id = os.getenv(\"LISTRAK_CLIENT_ID\")\n",
    "client_secret = os.getenv(\"LISTRAK_CLIENT_SECRET\")\n",
    "listrak_api = listrak.Listrak(client_id, client_secret)\n",
    "\n",
    "# Example showing how to get all lists\n",
    "lists = listrak_api.uri_list.get_all_lists()\n"
   ]
  }
 ],
 "metadata": {
  "interpreter": {
   "hash": "abf40973a076ccfd60da46d74b12b480e54a884a787bad4bae15f53031bf7d5a"
  },
  "kernelspec": {
   "display_name": "Python 3.9.5 64-bit",
   "language": "python",
   "name": "python3"
  },
  "language_info": {
   "codemirror_mode": {
    "name": "ipython",
    "version": 3
   },
   "file_extension": ".py",
   "mimetype": "text/x-python",
   "name": "python",
   "nbconvert_exporter": "python",
   "pygments_lexer": "ipython3",
   "version": "3.10.0"
  },
  "orig_nbformat": 4
 },
 "nbformat": 4,
 "nbformat_minor": 2
}
